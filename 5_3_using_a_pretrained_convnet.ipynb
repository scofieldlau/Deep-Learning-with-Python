{
  "nbformat": 4,
  "nbformat_minor": 0,
  "metadata": {
    "kernelspec": {
      "display_name": "Python 3",
      "language": "python",
      "name": "python3"
    },
    "language_info": {
      "codemirror_mode": {
        "name": "ipython",
        "version": 3
      },
      "file_extension": ".py",
      "mimetype": "text/x-python",
      "name": "python",
      "nbconvert_exporter": "python",
      "pygments_lexer": "ipython3",
      "version": "3.5.2"
    },
    "colab": {
      "name": "5.3-using-a-pretrained-convnet.ipynb",
      "provenance": [],
      "collapsed_sections": [],
      "include_colab_link": true
    },
    "accelerator": "GPU"
  },
  "cells": [
    {
      "cell_type": "markdown",
      "metadata": {
        "id": "view-in-github",
        "colab_type": "text"
      },
      "source": [
        "<a href=\"https://colab.research.google.com/github/scofieldlau/Deep-Learning-with-Python/blob/master/5_3_using_a_pretrained_convnet.ipynb\" target=\"_parent\"><img src=\"https://colab.research.google.com/assets/colab-badge.svg\" alt=\"Open In Colab\"/></a>"
      ]
    },
    {
      "cell_type": "markdown",
      "metadata": {
        "id": "fa6yiTpytmSb",
        "colab_type": "text"
      },
      "source": [
        "#Colab Environment Setup"
      ]
    },
    {
      "cell_type": "code",
      "metadata": {
        "id": "aQ8qOxaTum2Y",
        "colab_type": "code",
        "colab": {}
      },
      "source": [
        "import os, sys\n",
        "from google.colab import drive\n",
        "drive.mount('/content/mnt')\n",
        "nb_path = '/content/app'\n",
        "os.symlink('/content/mnt/My Drive/app', nb_path)\n",
        "sys.path.insert(5, nb_path)\n",
        "# changes to working dir\n",
        "os.chdir('app')"
      ],
      "execution_count": null,
      "outputs": []
    },
    {
      "cell_type": "code",
      "metadata": {
        "id": "r_XT0VmWt5xu",
        "colab_type": "code",
        "colab": {
          "base_uri": "https://localhost:8080/",
          "height": 35
        },
        "outputId": "a7d90885-7f4d-4ba4-a376-5839d19bf039"
      },
      "source": [
        "import keras\n",
        "keras.__version__"
      ],
      "execution_count": 2,
      "outputs": [
        {
          "output_type": "execute_result",
          "data": {
            "application/vnd.google.colaboratory.intrinsic+json": {
              "type": "string"
            },
            "text/plain": [
              "'2.4.3'"
            ]
          },
          "metadata": {
            "tags": []
          },
          "execution_count": 2
        }
      ]
    },
    {
      "cell_type": "code",
      "metadata": {
        "id": "nFMR40hwu9fr",
        "colab_type": "code",
        "colab": {
          "base_uri": "https://localhost:8080/",
          "height": 476
        },
        "outputId": "05158955-4347-419b-bef8-86882ab71813"
      },
      "source": [
        "from tensorflow.python.client import device_lib\n",
        "device_lib.list_local_devices()"
      ],
      "execution_count": 3,
      "outputs": [
        {
          "output_type": "execute_result",
          "data": {
            "text/plain": [
              "[name: \"/device:CPU:0\"\n",
              " device_type: \"CPU\"\n",
              " memory_limit: 268435456\n",
              " locality {\n",
              " }\n",
              " incarnation: 14184248227613876557, name: \"/device:XLA_CPU:0\"\n",
              " device_type: \"XLA_CPU\"\n",
              " memory_limit: 17179869184\n",
              " locality {\n",
              " }\n",
              " incarnation: 17610899089666452299\n",
              " physical_device_desc: \"device: XLA_CPU device\", name: \"/device:XLA_GPU:0\"\n",
              " device_type: \"XLA_GPU\"\n",
              " memory_limit: 17179869184\n",
              " locality {\n",
              " }\n",
              " incarnation: 4840652255625182653\n",
              " physical_device_desc: \"device: XLA_GPU device\", name: \"/device:GPU:0\"\n",
              " device_type: \"GPU\"\n",
              " memory_limit: 11146783616\n",
              " locality {\n",
              "   bus_id: 1\n",
              "   links {\n",
              "   }\n",
              " }\n",
              " incarnation: 4255042572722653729\n",
              " physical_device_desc: \"device: 0, name: Tesla K80, pci bus id: 0000:00:04.0, compute capability: 3.7\"]"
            ]
          },
          "metadata": {
            "tags": []
          },
          "execution_count": 3
        }
      ]
    },
    {
      "cell_type": "markdown",
      "metadata": {
        "id": "PlIa5X-lt5x1",
        "colab_type": "text"
      },
      "source": [
        "# Using a pre-trained convnet\n",
        "\n",
        "This notebook contains the code sample found in Chapter 5, Section 3 of [Deep Learning with Python](https://www.manning.com/books/deep-learning-with-python?a_aid=keras&a_bid=76564dff). Note that the original text features far more content, in particular further explanations and figures: in this notebook, you will only find source code and related comments.\n",
        "\n",
        "----\n",
        "\n",
        "A common and highly effective approach to deep learning on small image datasets is to leverage a pre-trained network. A pre-trained network \n",
        "is simply a saved network previously trained on a large dataset, typically on a large-scale image classification task. If this original \n",
        "dataset is large enough and general enough, then the spatial feature hierarchy learned by the pre-trained network can effectively act as a \n",
        "generic model of our visual world, and hence its features can prove useful for many different computer vision problems, even though these \n",
        "new problems might involve completely different classes from those of the original task. For instance, one might train a network on \n",
        "ImageNet (where classes are mostly animals and everyday objects) and then re-purpose this trained network for something as remote as \n",
        "identifying furniture items in images. Such portability of learned features across different problems is a key advantage of deep learning \n",
        "compared to many older shallow learning approaches, and it makes deep learning very effective for small-data problems.\n",
        "\n",
        "In our case, we will consider a large convnet trained on the ImageNet dataset (1.4 million labeled images and 1000 different classes). \n",
        "ImageNet contains many animal classes, including different species of cats and dogs, and we can thus expect to perform very well on our cat \n",
        "vs. dog classification problem.\n",
        "\n",
        "We will use the VGG16 architecture, developed by Karen Simonyan and Andrew Zisserman in 2014, a simple and widely used convnet architecture \n",
        "for ImageNet. Although it is a bit of an older model, far from the current state of the art and somewhat heavier than many other recent \n",
        "models, we chose it because its architecture is similar to what you are already familiar with, and easy to understand without introducing \n",
        "any new concepts. This may be your first encounter with one of these cutesie model names -- VGG, ResNet, Inception, Inception-ResNet, \n",
        "Xception... you will get used to them, as they will come up frequently if you keep doing deep learning for computer vision.\n",
        "\n",
        "There are two ways to leverage a pre-trained network: *feature extraction* and *fine-tuning*. We will cover both of them. Let's start with \n",
        "feature extraction."
      ]
    },
    {
      "cell_type": "markdown",
      "metadata": {
        "id": "ZAt4pmNtt5x1",
        "colab_type": "text"
      },
      "source": [
        "## Feature extraction\n",
        "\n",
        "Feature extraction consists of using the representations learned by a previous network to extract interesting features from new samples. \n",
        "These features are then run through a new classifier, which is trained from scratch.\n",
        "\n",
        "As we saw previously, convnets used for image classification comprise two parts: they start with a series of pooling and convolution \n",
        "layers, and they end with a densely-connected classifier. The first part is called the \"convolutional base\" of the model. In the case of \n",
        "convnets, \"feature extraction\" will simply consist of taking the convolutional base of a previously-trained network, running the new data \n",
        "through it, and training a new classifier on top of the output.\n",
        "\n",
        "![swapping FC classifiers](https://s3.amazonaws.com/book.keras.io/img/ch5/swapping_fc_classifier.png)\n",
        "\n",
        "Why only reuse the convolutional base? Could we reuse the densely-connected classifier as well? In general, it should be avoided. The \n",
        "reason is simply that the representations learned by the convolutional base are likely to be more generic and therefore more reusable: the \n",
        "feature maps of a convnet are presence maps of generic concepts over a picture, which is likely to be useful regardless of the computer \n",
        "vision problem at hand. On the other end, the representations learned by the classifier will necessarily be very specific to the set of \n",
        "classes that the model was trained on -- they will only contain information about the presence probability of this or that class in the \n",
        "entire picture. Additionally, representations found in densely-connected layers no longer contain any information about _where_ objects are \n",
        "located in the input image: these layers get rid of the notion of space, whereas the object location is still described by convolutional \n",
        "feature maps. For problems where object location matters, densely-connected features would be largely useless.\n",
        "\n",
        "Note that the level of generality (and therefore reusability) of the representations extracted by specific convolution layers depends on \n",
        "the depth of the layer in the model. Layers that come earlier in the model extract local, highly generic feature maps (such as visual \n",
        "edges, colors, and textures), while layers higher-up extract more abstract concepts (such as \"cat ear\" or \"dog eye\"). So if your new \n",
        "dataset differs a lot from the dataset that the original model was trained on, you may be better off using only the first few layers of the \n",
        "model to do feature extraction, rather than using the entire convolutional base.\n",
        "\n",
        "In our case, since the ImageNet class set did contain multiple dog and cat classes, it is likely that it would be beneficial to reuse the \n",
        "information contained in the densely-connected layers of the original model. However, we will chose not to, in order to cover the more \n",
        "general case where the class set of the new problem does not overlap with the class set of the original model."
      ]
    },
    {
      "cell_type": "markdown",
      "metadata": {
        "id": "D9wo1HMSt5x2",
        "colab_type": "text"
      },
      "source": [
        "Let's put this in practice by using the convolutional base of the VGG16 network, trained on ImageNet, to extract interesting features from \n",
        "our cat and dog images, and then training a cat vs. dog classifier on top of these features.\n",
        "\n",
        "The VGG16 model, among others, comes pre-packaged with Keras. You can import it from the `keras.applications` module. Here's the list of \n",
        "image classification models (all pre-trained on the ImageNet dataset) that are available as part of `keras.applications`:\n",
        "\n",
        "* Xception\n",
        "* InceptionV3\n",
        "* ResNet50\n",
        "* VGG16\n",
        "* VGG19\n",
        "* MobileNet\n",
        "\n",
        "Let's instantiate the VGG16 model:"
      ]
    },
    {
      "cell_type": "code",
      "metadata": {
        "id": "CqYt7k0ft5x2",
        "colab_type": "code",
        "colab": {
          "base_uri": "https://localhost:8080/",
          "height": 51
        },
        "outputId": "2ada654f-e1f1-4417-9273-585ea6e2b2ad"
      },
      "source": [
        "from tensorflow.keras.applications import VGG16\n",
        "\n",
        "conv_base = VGG16(weights='imagenet',\n",
        "                  include_top=False,\n",
        "                  input_shape=(150, 150, 3))"
      ],
      "execution_count": 4,
      "outputs": [
        {
          "output_type": "stream",
          "text": [
            "Downloading data from https://storage.googleapis.com/tensorflow/keras-applications/vgg16/vgg16_weights_tf_dim_ordering_tf_kernels_notop.h5\n",
            "58892288/58889256 [==============================] - 1s 0us/step\n"
          ],
          "name": "stdout"
        }
      ]
    },
    {
      "cell_type": "markdown",
      "metadata": {
        "id": "Dzhq_4SFt5x6",
        "colab_type": "text"
      },
      "source": [
        "We passed three arguments to the constructor:\n",
        "\n",
        "* `weights`, to specify which weight checkpoint to initialize the model from\n",
        "* `include_top`, which refers to including or not the densely-connected classifier on top of the network. By default, this \n",
        "densely-connected classifier would correspond to the 1000 classes from ImageNet. Since we intend to use our own densely-connected \n",
        "classifier (with only two classes, cat and dog), we don't need to include it.\n",
        "* `input_shape`, the shape of the image tensors that we will feed to the network. This argument is purely optional: if we don't pass it, \n",
        "then the network will be able to process inputs of any size.\n",
        "\n",
        "Here's the detail of the architecture of the VGG16 convolutional base: it's very similar to the simple convnets that you are already \n",
        "familiar with."
      ]
    },
    {
      "cell_type": "code",
      "metadata": {
        "id": "RGdUDPo_t5x7",
        "colab_type": "code",
        "colab": {
          "base_uri": "https://localhost:8080/",
          "height": 799
        },
        "outputId": "99ced683-2b55-4e2b-ceb0-706130cecf67"
      },
      "source": [
        "conv_base.summary()"
      ],
      "execution_count": 5,
      "outputs": [
        {
          "output_type": "stream",
          "text": [
            "Model: \"vgg16\"\n",
            "_________________________________________________________________\n",
            "Layer (type)                 Output Shape              Param #   \n",
            "=================================================================\n",
            "input_1 (InputLayer)         [(None, 150, 150, 3)]     0         \n",
            "_________________________________________________________________\n",
            "block1_conv1 (Conv2D)        (None, 150, 150, 64)      1792      \n",
            "_________________________________________________________________\n",
            "block1_conv2 (Conv2D)        (None, 150, 150, 64)      36928     \n",
            "_________________________________________________________________\n",
            "block1_pool (MaxPooling2D)   (None, 75, 75, 64)        0         \n",
            "_________________________________________________________________\n",
            "block2_conv1 (Conv2D)        (None, 75, 75, 128)       73856     \n",
            "_________________________________________________________________\n",
            "block2_conv2 (Conv2D)        (None, 75, 75, 128)       147584    \n",
            "_________________________________________________________________\n",
            "block2_pool (MaxPooling2D)   (None, 37, 37, 128)       0         \n",
            "_________________________________________________________________\n",
            "block3_conv1 (Conv2D)        (None, 37, 37, 256)       295168    \n",
            "_________________________________________________________________\n",
            "block3_conv2 (Conv2D)        (None, 37, 37, 256)       590080    \n",
            "_________________________________________________________________\n",
            "block3_conv3 (Conv2D)        (None, 37, 37, 256)       590080    \n",
            "_________________________________________________________________\n",
            "block3_pool (MaxPooling2D)   (None, 18, 18, 256)       0         \n",
            "_________________________________________________________________\n",
            "block4_conv1 (Conv2D)        (None, 18, 18, 512)       1180160   \n",
            "_________________________________________________________________\n",
            "block4_conv2 (Conv2D)        (None, 18, 18, 512)       2359808   \n",
            "_________________________________________________________________\n",
            "block4_conv3 (Conv2D)        (None, 18, 18, 512)       2359808   \n",
            "_________________________________________________________________\n",
            "block4_pool (MaxPooling2D)   (None, 9, 9, 512)         0         \n",
            "_________________________________________________________________\n",
            "block5_conv1 (Conv2D)        (None, 9, 9, 512)         2359808   \n",
            "_________________________________________________________________\n",
            "block5_conv2 (Conv2D)        (None, 9, 9, 512)         2359808   \n",
            "_________________________________________________________________\n",
            "block5_conv3 (Conv2D)        (None, 9, 9, 512)         2359808   \n",
            "_________________________________________________________________\n",
            "block5_pool (MaxPooling2D)   (None, 4, 4, 512)         0         \n",
            "=================================================================\n",
            "Total params: 14,714,688\n",
            "Trainable params: 14,714,688\n",
            "Non-trainable params: 0\n",
            "_________________________________________________________________\n"
          ],
          "name": "stdout"
        }
      ]
    },
    {
      "cell_type": "markdown",
      "metadata": {
        "id": "K0N0IoLUt5x-",
        "colab_type": "text"
      },
      "source": [
        "The final feature map has shape `(4, 4, 512)`. That's the feature on top of which we will stick a densely-connected classifier.\n",
        "\n",
        "At this point, there are two ways we could proceed: \n",
        "\n",
        "* Running the convolutional base over our dataset, recording its output to a Numpy array on disk, then using this data as input to a \n",
        "standalone densely-connected classifier similar to those you have seen in the first chapters of this book. This solution is very fast and \n",
        "cheap to run, because it only requires running the convolutional base once for every input image, and the convolutional base is by far the \n",
        "most expensive part of the pipeline. However, for the exact same reason, this technique would not allow us to leverage data augmentation at \n",
        "all.\n",
        "* Extending the model we have (`conv_base`) by adding `Dense` layers on top, and running the whole thing end-to-end on the input data. This \n",
        "allows us to use data augmentation, because every input image is going through the convolutional base every time it is seen by the model. \n",
        "However, for this same reason, this technique is far more expensive than the first one.\n",
        "\n",
        "We will cover both techniques. Let's walk through the code required to set-up the first one: recording the output of `conv_base` on our \n",
        "data and using these outputs as inputs to a new model.\n",
        "\n",
        "We will start by simply running instances of the previously-introduced `ImageDataGenerator` to extract images as Numpy arrays as well as \n",
        "their labels. We will extract features from these images simply by calling the `predict` method of the `conv_base` model."
      ]
    },
    {
      "cell_type": "code",
      "metadata": {
        "id": "hQv4ViPet5x_",
        "colab_type": "code",
        "colab": {
          "base_uri": "https://localhost:8080/",
          "height": 68
        },
        "outputId": "6741da6f-6e15-482d-cdb6-5638af9dae52"
      },
      "source": [
        "import os\n",
        "import numpy as np\n",
        "from keras.preprocessing.image import ImageDataGenerator\n",
        "\n",
        "base_dir = '/content/mnt/My Drive/app/Downloads/cats_and_dogs_small'\n",
        "\n",
        "train_dir = os.path.join(base_dir, 'train')\n",
        "validation_dir = os.path.join(base_dir, 'validation')\n",
        "test_dir = os.path.join(base_dir, 'test')\n",
        "\n",
        "datagen = ImageDataGenerator(rescale=1./255)\n",
        "batch_size = 20\n",
        "\n",
        "def extract_features(directory, sample_count):\n",
        "    features = np.zeros(shape=(sample_count, 4, 4, 512))\n",
        "    labels = np.zeros(shape=(sample_count))\n",
        "    generator = datagen.flow_from_directory(\n",
        "        directory,\n",
        "        target_size=(150, 150),\n",
        "        batch_size=batch_size,\n",
        "        class_mode='binary')\n",
        "    i = 0\n",
        "    for inputs_batch, labels_batch in generator:\n",
        "        features_batch = conv_base.predict(inputs_batch)\n",
        "        features[i * batch_size : (i + 1) * batch_size] = features_batch\n",
        "        labels[i * batch_size : (i + 1) * batch_size] = labels_batch\n",
        "        i += 1\n",
        "        if i * batch_size >= sample_count:\n",
        "            # Note that since generators yield data indefinitely in a loop,\n",
        "            # we must `break` after every image has been seen once.\n",
        "            break\n",
        "    return features, labels\n",
        "\n",
        "train_features, train_labels = extract_features(train_dir, 2000)\n",
        "validation_features, validation_labels = extract_features(validation_dir, 1000)\n",
        "test_features, test_labels = extract_features(test_dir, 1000)"
      ],
      "execution_count": 6,
      "outputs": [
        {
          "output_type": "stream",
          "text": [
            "Found 2000 images belonging to 2 classes.\n",
            "Found 1000 images belonging to 2 classes.\n",
            "Found 1000 images belonging to 2 classes.\n"
          ],
          "name": "stdout"
        }
      ]
    },
    {
      "cell_type": "markdown",
      "metadata": {
        "id": "oPRHVufNt5yF",
        "colab_type": "text"
      },
      "source": [
        "The extracted features are currently of shape `(samples, 4, 4, 512)`. We will feed them to a densely-connected classifier, so first we must \n",
        "flatten them to `(samples, 8192)`:"
      ]
    },
    {
      "cell_type": "code",
      "metadata": {
        "id": "f0tgA-Cet5yG",
        "colab_type": "code",
        "colab": {}
      },
      "source": [
        "train_features = np.reshape(train_features, (2000, 4 * 4 * 512))\n",
        "validation_features = np.reshape(validation_features, (1000, 4 * 4 * 512))\n",
        "test_features = np.reshape(test_features, (1000, 4 * 4 * 512))"
      ],
      "execution_count": 7,
      "outputs": []
    },
    {
      "cell_type": "markdown",
      "metadata": {
        "id": "HbGHt3s5t5yK",
        "colab_type": "text"
      },
      "source": [
        "At this point, we can define our densely-connected classifier (note the use of dropout for regularization), and train it on the data and \n",
        "labels that we just recorded:"
      ]
    },
    {
      "cell_type": "code",
      "metadata": {
        "id": "BuJ8wUSbt5yK",
        "colab_type": "code",
        "colab": {
          "base_uri": "https://localhost:8080/",
          "height": 1000
        },
        "outputId": "60ab0d92-87d7-428c-a3b3-c8a896909509"
      },
      "source": [
        "from tensorflow.keras import models\n",
        "from tensorflow.keras import layers\n",
        "from tensorflow.keras import optimizers\n",
        "\n",
        "model = models.Sequential()\n",
        "model.add(layers.Dense(256, activation='relu', input_dim=4 * 4 * 512))\n",
        "model.add(layers.Dropout(0.5))\n",
        "model.add(layers.Dense(1, activation='sigmoid'))\n",
        "\n",
        "model.compile(optimizer=optimizers.RMSprop(lr=2e-5),\n",
        "              loss='binary_crossentropy',\n",
        "              metrics=['acc'])\n",
        "\n",
        "history = model.fit(train_features, train_labels,\n",
        "                    epochs=30,\n",
        "                    batch_size=20,\n",
        "                    validation_data=(validation_features, validation_labels))"
      ],
      "execution_count": 8,
      "outputs": [
        {
          "output_type": "stream",
          "text": [
            "Epoch 1/30\n",
            "100/100 [==============================] - 1s 7ms/step - loss: 0.5971 - acc: 0.6805 - val_loss: 0.4403 - val_acc: 0.8360\n",
            "Epoch 2/30\n",
            "100/100 [==============================] - 1s 5ms/step - loss: 0.4294 - acc: 0.8150 - val_loss: 0.3639 - val_acc: 0.8670\n",
            "Epoch 3/30\n",
            "100/100 [==============================] - 1s 5ms/step - loss: 0.3519 - acc: 0.8470 - val_loss: 0.3122 - val_acc: 0.8850\n",
            "Epoch 4/30\n",
            "100/100 [==============================] - 1s 5ms/step - loss: 0.3141 - acc: 0.8675 - val_loss: 0.2900 - val_acc: 0.8860\n",
            "Epoch 5/30\n",
            "100/100 [==============================] - 1s 5ms/step - loss: 0.2836 - acc: 0.8850 - val_loss: 0.2794 - val_acc: 0.8970\n",
            "Epoch 6/30\n",
            "100/100 [==============================] - 1s 5ms/step - loss: 0.2602 - acc: 0.8955 - val_loss: 0.2730 - val_acc: 0.8870\n",
            "Epoch 7/30\n",
            "100/100 [==============================] - 1s 5ms/step - loss: 0.2506 - acc: 0.9055 - val_loss: 0.2573 - val_acc: 0.8990\n",
            "Epoch 8/30\n",
            "100/100 [==============================] - 1s 5ms/step - loss: 0.2289 - acc: 0.9135 - val_loss: 0.2581 - val_acc: 0.8970\n",
            "Epoch 9/30\n",
            "100/100 [==============================] - 1s 5ms/step - loss: 0.2120 - acc: 0.9205 - val_loss: 0.2520 - val_acc: 0.8950\n",
            "Epoch 10/30\n",
            "100/100 [==============================] - 1s 5ms/step - loss: 0.2019 - acc: 0.9250 - val_loss: 0.2447 - val_acc: 0.9010\n",
            "Epoch 11/30\n",
            "100/100 [==============================] - 1s 5ms/step - loss: 0.1956 - acc: 0.9280 - val_loss: 0.2473 - val_acc: 0.8980\n",
            "Epoch 12/30\n",
            "100/100 [==============================] - 1s 5ms/step - loss: 0.1869 - acc: 0.9320 - val_loss: 0.2395 - val_acc: 0.9020\n",
            "Epoch 13/30\n",
            "100/100 [==============================] - 1s 5ms/step - loss: 0.1730 - acc: 0.9390 - val_loss: 0.2381 - val_acc: 0.9040\n",
            "Epoch 14/30\n",
            "100/100 [==============================] - 1s 5ms/step - loss: 0.1641 - acc: 0.9420 - val_loss: 0.2437 - val_acc: 0.8990\n",
            "Epoch 15/30\n",
            "100/100 [==============================] - 1s 5ms/step - loss: 0.1610 - acc: 0.9465 - val_loss: 0.2343 - val_acc: 0.9050\n",
            "Epoch 16/30\n",
            "100/100 [==============================] - 1s 5ms/step - loss: 0.1512 - acc: 0.9485 - val_loss: 0.2315 - val_acc: 0.9040\n",
            "Epoch 17/30\n",
            "100/100 [==============================] - 1s 5ms/step - loss: 0.1478 - acc: 0.9515 - val_loss: 0.2347 - val_acc: 0.9040\n",
            "Epoch 18/30\n",
            "100/100 [==============================] - 1s 5ms/step - loss: 0.1375 - acc: 0.9550 - val_loss: 0.2306 - val_acc: 0.9060\n",
            "Epoch 19/30\n",
            "100/100 [==============================] - 1s 5ms/step - loss: 0.1321 - acc: 0.9590 - val_loss: 0.2314 - val_acc: 0.9080\n",
            "Epoch 20/30\n",
            "100/100 [==============================] - 1s 5ms/step - loss: 0.1291 - acc: 0.9555 - val_loss: 0.2361 - val_acc: 0.9060\n",
            "Epoch 21/30\n",
            "100/100 [==============================] - 1s 5ms/step - loss: 0.1202 - acc: 0.9580 - val_loss: 0.2322 - val_acc: 0.9050\n",
            "Epoch 22/30\n",
            "100/100 [==============================] - 1s 5ms/step - loss: 0.1182 - acc: 0.9590 - val_loss: 0.2325 - val_acc: 0.9030\n",
            "Epoch 23/30\n",
            "100/100 [==============================] - 1s 5ms/step - loss: 0.1137 - acc: 0.9610 - val_loss: 0.2305 - val_acc: 0.9060\n",
            "Epoch 24/30\n",
            "100/100 [==============================] - 1s 5ms/step - loss: 0.1086 - acc: 0.9615 - val_loss: 0.2317 - val_acc: 0.9030\n",
            "Epoch 25/30\n",
            "100/100 [==============================] - 1s 5ms/step - loss: 0.1005 - acc: 0.9725 - val_loss: 0.2379 - val_acc: 0.9070\n",
            "Epoch 26/30\n",
            "100/100 [==============================] - 1s 5ms/step - loss: 0.0973 - acc: 0.9695 - val_loss: 0.2363 - val_acc: 0.9060\n",
            "Epoch 27/30\n",
            "100/100 [==============================] - 1s 5ms/step - loss: 0.0945 - acc: 0.9730 - val_loss: 0.2403 - val_acc: 0.9070\n",
            "Epoch 28/30\n",
            "100/100 [==============================] - 1s 5ms/step - loss: 0.0928 - acc: 0.9730 - val_loss: 0.2333 - val_acc: 0.9010\n",
            "Epoch 29/30\n",
            "100/100 [==============================] - 1s 5ms/step - loss: 0.0843 - acc: 0.9765 - val_loss: 0.2427 - val_acc: 0.9070\n",
            "Epoch 30/30\n",
            "100/100 [==============================] - 1s 5ms/step - loss: 0.0864 - acc: 0.9730 - val_loss: 0.2341 - val_acc: 0.9000\n"
          ],
          "name": "stdout"
        }
      ]
    },
    {
      "cell_type": "markdown",
      "metadata": {
        "id": "KEgkvT_4t5yO",
        "colab_type": "text"
      },
      "source": [
        "Training is very fast, since we only have to deal with two `Dense` layers -- an epoch takes less than one second even on CPU.\n",
        "\n",
        "Let's take a look at the loss and accuracy curves during training:"
      ]
    },
    {
      "cell_type": "code",
      "metadata": {
        "id": "SBJ1p7-8t5yP",
        "colab_type": "code",
        "colab": {
          "base_uri": "https://localhost:8080/",
          "height": 545
        },
        "outputId": "f270780a-83da-4b83-8729-51c0eb64e1c9"
      },
      "source": [
        "import matplotlib.pyplot as plt\n",
        "\n",
        "acc = history.history['acc']\n",
        "val_acc = history.history['val_acc']\n",
        "loss = history.history['loss']\n",
        "val_loss = history.history['val_loss']\n",
        "\n",
        "epochs = range(len(acc))\n",
        "\n",
        "plt.plot(epochs, acc, 'bo', label='Training acc')\n",
        "plt.plot(epochs, val_acc, 'b', label='Validation acc')\n",
        "plt.title('Training and validation accuracy')\n",
        "plt.legend()\n",
        "\n",
        "plt.figure()\n",
        "\n",
        "plt.plot(epochs, loss, 'bo', label='Training loss')\n",
        "plt.plot(epochs, val_loss, 'b', label='Validation loss')\n",
        "plt.title('Training and validation loss')\n",
        "plt.legend()\n",
        "\n",
        "plt.show()"
      ],
      "execution_count": 9,
      "outputs": [
        {
          "output_type": "display_data",
          "data": {
            "image/png": "[encoded data removed]",
            "text/plain": [
              "<Figure size 432x288 with 1 Axes>"
            ]
          },
          "metadata": {
            "tags": [],
            "needs_background": "light"
          }
        },
        {
          "output_type": "display_data",
          "data": {
            "image/png": "[encoded data removed]",
            "text/plain": [
              "<Figure size 432x288 with 1 Axes>"
            ]
          },
          "metadata": {
            "tags": [],
            "needs_background": "light"
          }
        }
      ]
    },
    {
      "cell_type": "markdown",
      "metadata": {
        "id": "eHiB9umRt5yS",
        "colab_type": "text"
      },
      "source": [
        "\n",
        "We reach a validation accuracy of about 90%, much better than what we could achieve in the previous section with our small model trained from \n",
        "scratch. However, our plots also indicate that we are overfitting almost from the start -- despite using dropout with a fairly large rate. \n",
        "This is because this technique does not leverage data augmentation, which is essential to preventing overfitting with small image datasets.\n",
        "\n",
        "Now, let's review the second technique we mentioned for doing feature extraction, which is much slower and more expensive, but which allows \n",
        "us to leverage data augmentation during training: extending the `conv_base` model and running it end-to-end on the inputs. Note that this \n",
        "technique is in fact so expensive that you should only attempt it if you have access to a GPU: it is absolutely intractable on CPU. If you \n",
        "cannot run your code on GPU, then the previous technique is the way to go.\n",
        "\n",
        "Because models behave just like layers, you can add a model (like our `conv_base`) to a `Sequential` model just like you would add a layer. \n",
        "So you can do the following:"
      ]
    },
    {
      "cell_type": "code",
      "metadata": {
        "id": "5EvM-qunt5yS",
        "colab_type": "code",
        "colab": {}
      },
      "source": [
        "from tensorflow.keras import models\n",
        "from tensorflow.keras import layers\n",
        "\n",
        "model = models.Sequential()\n",
        "model.add(conv_base)\n",
        "model.add(layers.Flatten())\n",
        "model.add(layers.Dense(256, activation='relu'))\n",
        "model.add(layers.Dense(1, activation='sigmoid'))"
      ],
      "execution_count": 10,
      "outputs": []
    },
    {
      "cell_type": "markdown",
      "metadata": {
        "id": "-j1vzlIOt5yW",
        "colab_type": "text"
      },
      "source": [
        "This is what our model looks like now:"
      ]
    },
    {
      "cell_type": "code",
      "metadata": {
        "id": "xp8T00RQt5yY",
        "colab_type": "code",
        "colab": {
          "base_uri": "https://localhost:8080/",
          "height": 289
        },
        "outputId": "397471a2-eaf2-4597-9500-79ea7f991e65"
      },
      "source": [
        "model.summary()"
      ],
      "execution_count": 11,
      "outputs": [
        {
          "output_type": "stream",
          "text": [
            "Model: \"sequential_1\"\n",
            "_________________________________________________________________\n",
            "Layer (type)                 Output Shape              Param #   \n",
            "=================================================================\n",
            "vgg16 (Functional)           (None, 4, 4, 512)         14714688  \n",
            "_________________________________________________________________\n",
            "flatten (Flatten)            (None, 8192)              0         \n",
            "_________________________________________________________________\n",
            "dense_2 (Dense)              (None, 256)               2097408   \n",
            "_________________________________________________________________\n",
            "dense_3 (Dense)              (None, 1)                 257       \n",
            "=================================================================\n",
            "Total params: 16,812,353\n",
            "Trainable params: 16,812,353\n",
            "Non-trainable params: 0\n",
            "_________________________________________________________________\n"
          ],
          "name": "stdout"
        }
      ]
    },
    {
      "cell_type": "markdown",
      "metadata": {
        "id": "bVvN57fLt5yc",
        "colab_type": "text"
      },
      "source": [
        "As you can see, the convolutional base of VGG16 has 14,714,688 parameters, which is very large. The classifier we are adding on top has 2 \n",
        "million parameters.\n",
        "\n",
        "Before we compile and train our model, a very important thing to do is to freeze the convolutional base. \"Freezing\" a layer or set of \n",
        "layers means preventing their weights from getting updated during training. If we don't do this, then the representations that were \n",
        "previously learned by the convolutional base would get modified during training. Since the `Dense` layers on top are randomly initialized, \n",
        "very large weight updates would be propagated through the network, effectively destroying the representations previously learned.\n",
        "\n",
        "In Keras, freezing a network is done by setting its `trainable` attribute to `False`:"
      ]
    },
    {
      "cell_type": "code",
      "metadata": {
        "id": "wqlebQr6t5yd",
        "colab_type": "code",
        "colab": {
          "base_uri": "https://localhost:8080/",
          "height": 34
        },
        "outputId": "df053017-3ee9-486e-8a40-f6cde85b2b34"
      },
      "source": [
        "print('This is the number of trainable weights '\n",
        "      'before freezing the conv base:', len(model.trainable_weights))"
      ],
      "execution_count": 12,
      "outputs": [
        {
          "output_type": "stream",
          "text": [
            "This is the number of trainable weights before freezing the conv base: 30\n"
          ],
          "name": "stdout"
        }
      ]
    },
    {
      "cell_type": "code",
      "metadata": {
        "id": "qkuYAjnEt5yh",
        "colab_type": "code",
        "colab": {}
      },
      "source": [
        "conv_base.trainable = False"
      ],
      "execution_count": 13,
      "outputs": []
    },
    {
      "cell_type": "code",
      "metadata": {
        "id": "n4MfrYQTt5yj",
        "colab_type": "code",
        "colab": {
          "base_uri": "https://localhost:8080/",
          "height": 34
        },
        "outputId": "1f7d6943-e0dd-4cdd-84af-7cf798438d61"
      },
      "source": [
        "print('This is the number of trainable weights '\n",
        "      'after freezing the conv base:', len(model.trainable_weights))"
      ],
      "execution_count": 14,
      "outputs": [
        {
          "output_type": "stream",
          "text": [
            "This is the number of trainable weights after freezing the conv base: 4\n"
          ],
          "name": "stdout"
        }
      ]
    },
    {
      "cell_type": "markdown",
      "metadata": {
        "id": "1oj7bFa4t5yn",
        "colab_type": "text"
      },
      "source": [
        "With this setup, only the weights from the two `Dense` layers that we added will be trained. That's a total of four weight tensors: two per \n",
        "layer (the main weight matrix and the bias vector). Note that in order for these changes to take effect, we must first compile the model. \n",
        "If you ever modify weight trainability after compilation, you should then re-compile the model, or these changes would be ignored.\n",
        "\n",
        "Now we can start training our model, with the same data augmentation configuration that we used in our previous example:"
      ]
    },
    {
      "cell_type": "code",
      "metadata": {
        "id": "dSh2WB5Pt5yo",
        "colab_type": "code",
        "colab": {
          "base_uri": "https://localhost:8080/",
          "height": 1000
        },
        "outputId": "d3f7005c-d68f-424a-da74-5fdae3973bc5"
      },
      "source": [
        "from tensorflow.keras.preprocessing.image import ImageDataGenerator\n",
        "\n",
        "train_datagen = ImageDataGenerator(\n",
        "      rescale=1./255,\n",
        "      rotation_range=40,\n",
        "      width_shift_range=0.2,\n",
        "      height_shift_range=0.2,\n",
        "      shear_range=0.2,\n",
        "      zoom_range=0.2,\n",
        "      horizontal_flip=True,\n",
        "      fill_mode='nearest')\n",
        "\n",
        "# Note that the validation data should not be augmented!\n",
        "test_datagen = ImageDataGenerator(rescale=1./255)\n",
        "\n",
        "train_generator = train_datagen.flow_from_directory(\n",
        "        # This is the target directory\n",
        "        train_dir,\n",
        "        # All images will be resized to 150x150\n",
        "        target_size=(150, 150),\n",
        "        batch_size=20,\n",
        "        # Since we use binary_crossentropy loss, we need binary labels\n",
        "        class_mode='binary')\n",
        "\n",
        "validation_generator = test_datagen.flow_from_directory(\n",
        "        validation_dir,\n",
        "        target_size=(150, 150),\n",
        "        batch_size=20,\n",
        "        class_mode='binary')\n",
        "\n",
        "model.compile(loss='binary_crossentropy',\n",
        "              optimizer=optimizers.RMSprop(lr=2e-5),\n",
        "              metrics=['acc'])\n",
        "\n",
        "history = model.fit(\n",
        "      train_generator,\n",
        "      steps_per_epoch=100,\n",
        "      epochs=30,\n",
        "      validation_data=validation_generator,\n",
        "      validation_steps=50,\n",
        "      verbose=2)"
      ],
      "execution_count": 15,
      "outputs": [
        {
          "output_type": "stream",
          "text": [
            "Found 2000 images belonging to 2 classes.\n",
            "Found 1000 images belonging to 2 classes.\n",
            "Epoch 1/30\n",
            "100/100 - 28s - loss: 0.5878 - acc: 0.7060 - val_loss: 0.4537 - val_acc: 0.8210\n",
            "Epoch 2/30\n",
            "100/100 - 27s - loss: 0.4819 - acc: 0.7880 - val_loss: 0.3749 - val_acc: 0.8520\n",
            "Epoch 3/30\n",
            "100/100 - 27s - loss: 0.4344 - acc: 0.8000 - val_loss: 0.3440 - val_acc: 0.8510\n",
            "Epoch 4/30\n",
            "100/100 - 28s - loss: 0.3972 - acc: 0.8260 - val_loss: 0.3122 - val_acc: 0.8790\n",
            "Epoch 5/30\n",
            "100/100 - 27s - loss: 0.3756 - acc: 0.8365 - val_loss: 0.2952 - val_acc: 0.8850\n",
            "Epoch 6/30\n",
            "100/100 - 27s - loss: 0.3579 - acc: 0.8430 - val_loss: 0.2816 - val_acc: 0.8850\n",
            "Epoch 7/30\n",
            "100/100 - 27s - loss: 0.3614 - acc: 0.8475 - val_loss: 0.2774 - val_acc: 0.8900\n",
            "Epoch 8/30\n",
            "100/100 - 27s - loss: 0.3511 - acc: 0.8455 - val_loss: 0.2749 - val_acc: 0.8900\n",
            "Epoch 9/30\n",
            "100/100 - 28s - loss: 0.3419 - acc: 0.8430 - val_loss: 0.2776 - val_acc: 0.8810\n",
            "Epoch 10/30\n",
            "100/100 - 27s - loss: 0.3393 - acc: 0.8470 - val_loss: 0.2637 - val_acc: 0.8930\n",
            "Epoch 11/30\n",
            "100/100 - 27s - loss: 0.3413 - acc: 0.8550 - val_loss: 0.2594 - val_acc: 0.8950\n",
            "Epoch 12/30\n",
            "100/100 - 27s - loss: 0.3231 - acc: 0.8600 - val_loss: 0.2612 - val_acc: 0.8890\n",
            "Epoch 13/30\n",
            "100/100 - 27s - loss: 0.3271 - acc: 0.8575 - val_loss: 0.2552 - val_acc: 0.8950\n",
            "Epoch 14/30\n",
            "100/100 - 27s - loss: 0.3260 - acc: 0.8580 - val_loss: 0.2566 - val_acc: 0.8910\n",
            "Epoch 15/30\n",
            "100/100 - 27s - loss: 0.3162 - acc: 0.8745 - val_loss: 0.2516 - val_acc: 0.8970\n",
            "Epoch 16/30\n",
            "100/100 - 27s - loss: 0.3086 - acc: 0.8675 - val_loss: 0.2533 - val_acc: 0.8960\n",
            "Epoch 17/30\n",
            "100/100 - 27s - loss: 0.3096 - acc: 0.8640 - val_loss: 0.2570 - val_acc: 0.8920\n",
            "Epoch 18/30\n",
            "100/100 - 27s - loss: 0.3077 - acc: 0.8690 - val_loss: 0.2458 - val_acc: 0.8960\n",
            "Epoch 19/30\n",
            "100/100 - 27s - loss: 0.3003 - acc: 0.8695 - val_loss: 0.2436 - val_acc: 0.9020\n",
            "Epoch 20/30\n",
            "100/100 - 27s - loss: 0.3031 - acc: 0.8690 - val_loss: 0.2439 - val_acc: 0.9040\n",
            "Epoch 21/30\n",
            "100/100 - 28s - loss: 0.2947 - acc: 0.8760 - val_loss: 0.2514 - val_acc: 0.8980\n",
            "Epoch 22/30\n",
            "100/100 - 27s - loss: 0.3032 - acc: 0.8725 - val_loss: 0.2432 - val_acc: 0.9020\n",
            "Epoch 23/30\n",
            "100/100 - 28s - loss: 0.2883 - acc: 0.8710 - val_loss: 0.2447 - val_acc: 0.9050\n",
            "Epoch 24/30\n",
            "100/100 - 28s - loss: 0.3077 - acc: 0.8585 - val_loss: 0.2478 - val_acc: 0.9000\n",
            "Epoch 25/30\n",
            "100/100 - 27s - loss: 0.2929 - acc: 0.8715 - val_loss: 0.2519 - val_acc: 0.8940\n",
            "Epoch 26/30\n",
            "100/100 - 27s - loss: 0.2916 - acc: 0.8735 - val_loss: 0.2413 - val_acc: 0.9040\n",
            "Epoch 27/30\n",
            "100/100 - 27s - loss: 0.2961 - acc: 0.8715 - val_loss: 0.2656 - val_acc: 0.8880\n",
            "Epoch 28/30\n",
            "100/100 - 27s - loss: 0.2817 - acc: 0.8785 - val_loss: 0.2441 - val_acc: 0.8970\n",
            "Epoch 29/30\n",
            "100/100 - 27s - loss: 0.2859 - acc: 0.8820 - val_loss: 0.2441 - val_acc: 0.9010\n",
            "Epoch 30/30\n",
            "100/100 - 27s - loss: 0.2789 - acc: 0.8850 - val_loss: 0.2574 - val_acc: 0.8850\n"
          ],
          "name": "stdout"
        }
      ]
    },
    {
      "cell_type": "code",
      "metadata": {
        "id": "cGY2Juqit5ys",
        "colab_type": "code",
        "colab": {}
      },
      "source": [
        "model.save('cats_and_dogs_small_3.h5')"
      ],
      "execution_count": 16,
      "outputs": []
    },
    {
      "cell_type": "markdown",
      "metadata": {
        "id": "8zj6P4T8t5yv",
        "colab_type": "text"
      },
      "source": [
        "Let's plot our results again:"
      ]
    },
    {
      "cell_type": "code",
      "metadata": {
        "id": "ZYBhYtxLt5yv",
        "colab_type": "code",
        "colab": {
          "base_uri": "https://localhost:8080/",
          "height": 545
        },
        "outputId": "34c99ac5-e9ba-4551-ab37-406ed22bd1e0"
      },
      "source": [
        "acc = history.history['acc']\n",
        "val_acc = history.history['val_acc']\n",
        "loss = history.history['loss']\n",
        "val_loss = history.history['val_loss']\n",
        "\n",
        "epochs = range(len(acc))\n",
        "\n",
        "plt.plot(epochs, acc, 'bo', label='Training acc')\n",
        "plt.plot(epochs, val_acc, 'b', label='Validation acc')\n",
        "plt.title('Training and validation accuracy')\n",
        "plt.legend()\n",
        "\n",
        "plt.figure()\n",
        "\n",
        "plt.plot(epochs, loss, 'bo', label='Training loss')\n",
        "plt.plot(epochs, val_loss, 'b', label='Validation loss')\n",
        "plt.title('Training and validation loss')\n",
        "plt.legend()\n",
        "\n",
        "plt.show()"
      ],
      "execution_count": 17,
      "outputs": [
        {
          "output_type": "display_data",
          "data": {
            "image/png": "[encoded data removed]",
            "text/plain": [
              "<Figure size 432x288 with 1 Axes>"
            ]
          },
          "metadata": {
            "tags": [],
            "needs_background": "light"
          }
        },
        {
          "output_type": "display_data",
          "data": {
            "image/png": "[encoded data removed]",
            "text/plain": [
              "<Figure size 432x288 with 1 Axes>"
            ]
          },
          "metadata": {
            "tags": [],
            "needs_background": "light"
          }
        }
      ]
    },
    {
      "cell_type": "markdown",
      "metadata": {
        "id": "TjyzG0Vit5yz",
        "colab_type": "text"
      },
      "source": [
        "As you can see, we reach a validation accuracy of about 96%. This is much better than our small convnet trained from scratch."
      ]
    },
    {
      "cell_type": "markdown",
      "metadata": {
        "id": "5ctiCKT0t5yz",
        "colab_type": "text"
      },
      "source": [
        "## Fine-tuning\n",
        "\n",
        "Another widely used technique for model reuse, complementary to feature extraction, is _fine-tuning_. \n",
        "Fine-tuning consists in unfreezing a few of the top layers \n",
        "of a frozen model base used for feature extraction, and jointly training both the newly added part of the model (in our case, the \n",
        "fully-connected classifier) and these top layers. This is called \"fine-tuning\" because it slightly adjusts the more abstract \n",
        "representations of the model being reused, in order to make them more relevant for the problem at hand.\n",
        "\n",
        "![fine-tuning VGG16](https://s3.amazonaws.com/book.keras.io/img/ch5/vgg16_fine_tuning.png)"
      ]
    },
    {
      "cell_type": "markdown",
      "metadata": {
        "id": "BhqZdjIKt5y0",
        "colab_type": "text"
      },
      "source": [
        "We have stated before that it was necessary to freeze the convolution base of VGG16 in order to be able to train a randomly initialized \n",
        "classifier on top. For the same reason, it is only possible to fine-tune the top layers of the convolutional base once the classifier on \n",
        "top has already been trained. If the classified wasn't already trained, then the error signal propagating through the network during \n",
        "training would be too large, and the representations previously learned by the layers being fine-tuned would be destroyed. Thus the steps \n",
        "for fine-tuning a network are as follow:\n",
        "\n",
        "* 1) Add your custom network on top of an already trained base network.\n",
        "* 2) Freeze the base network.\n",
        "* 3) Train the part you added.\n",
        "* 4) Unfreeze some layers in the base network.\n",
        "* 5) Jointly train both these layers and the part you added.\n",
        "\n",
        "We have already completed the first 3 steps when doing feature extraction. Let's proceed with the 4th step: we will unfreeze our `conv_base`, \n",
        "and then freeze individual layers inside of it.\n",
        "\n",
        "As a reminder, this is what our convolutional base looks like:"
      ]
    },
    {
      "cell_type": "code",
      "metadata": {
        "id": "wG202XUat5y0",
        "colab_type": "code",
        "colab": {
          "base_uri": "https://localhost:8080/",
          "height": 799
        },
        "outputId": "d28c7e4c-0c37-49e4-e5e5-a2814b93a83c"
      },
      "source": [
        "conv_base.summary()"
      ],
      "execution_count": 18,
      "outputs": [
        {
          "output_type": "stream",
          "text": [
            "Model: \"vgg16\"\n",
            "_________________________________________________________________\n",
            "Layer (type)                 Output Shape              Param #   \n",
            "=================================================================\n",
            "input_1 (InputLayer)         [(None, 150, 150, 3)]     0         \n",
            "_________________________________________________________________\n",
            "block1_conv1 (Conv2D)        (None, 150, 150, 64)      1792      \n",
            "_________________________________________________________________\n",
            "block1_conv2 (Conv2D)        (None, 150, 150, 64)      36928     \n",
            "_________________________________________________________________\n",
            "block1_pool (MaxPooling2D)   (None, 75, 75, 64)        0         \n",
            "_________________________________________________________________\n",
            "block2_conv1 (Conv2D)        (None, 75, 75, 128)       73856     \n",
            "_________________________________________________________________\n",
            "block2_conv2 (Conv2D)        (None, 75, 75, 128)       147584    \n",
            "_________________________________________________________________\n",
            "block2_pool (MaxPooling2D)   (None, 37, 37, 128)       0         \n",
            "_________________________________________________________________\n",
            "block3_conv1 (Conv2D)        (None, 37, 37, 256)       295168    \n",
            "_________________________________________________________________\n",
            "block3_conv2 (Conv2D)        (None, 37, 37, 256)       590080    \n",
            "_________________________________________________________________\n",
            "block3_conv3 (Conv2D)        (None, 37, 37, 256)       590080    \n",
            "_________________________________________________________________\n",
            "block3_pool (MaxPooling2D)   (None, 18, 18, 256)       0         \n",
            "_________________________________________________________________\n",
            "block4_conv1 (Conv2D)        (None, 18, 18, 512)       1180160   \n",
            "_________________________________________________________________\n",
            "block4_conv2 (Conv2D)        (None, 18, 18, 512)       2359808   \n",
            "_________________________________________________________________\n",
            "block4_conv3 (Conv2D)        (None, 18, 18, 512)       2359808   \n",
            "_________________________________________________________________\n",
            "block4_pool (MaxPooling2D)   (None, 9, 9, 512)         0         \n",
            "_________________________________________________________________\n",
            "block5_conv1 (Conv2D)        (None, 9, 9, 512)         2359808   \n",
            "_________________________________________________________________\n",
            "block5_conv2 (Conv2D)        (None, 9, 9, 512)         2359808   \n",
            "_________________________________________________________________\n",
            "block5_conv3 (Conv2D)        (None, 9, 9, 512)         2359808   \n",
            "_________________________________________________________________\n",
            "block5_pool (MaxPooling2D)   (None, 4, 4, 512)         0         \n",
            "=================================================================\n",
            "Total params: 14,714,688\n",
            "Trainable params: 0\n",
            "Non-trainable params: 14,714,688\n",
            "_________________________________________________________________\n"
          ],
          "name": "stdout"
        }
      ]
    },
    {
      "cell_type": "markdown",
      "metadata": {
        "id": "iM8tjpqAt5y4",
        "colab_type": "text"
      },
      "source": [
        "\n",
        "We will fine-tune the last 3 convolutional layers, which means that all layers up until `block4_pool` should be frozen, and the layers \n",
        "`block5_conv1`, `block5_conv2` and `block5_conv3` should be trainable.\n",
        "\n",
        "Why not fine-tune more layers? Why not fine-tune the entire convolutional base? We could. However, we need to consider that:\n",
        "\n",
        "* Earlier layers in the convolutional base encode more generic, reusable features, while layers higher up encode more specialized features. It is \n",
        "more useful to fine-tune the more specialized features, as these are the ones that need to be repurposed on our new problem. There would \n",
        "be fast-decreasing returns in fine-tuning lower layers.\n",
        "* The more parameters we are training, the more we are at risk of overfitting. The convolutional base has 15M parameters, so it would be \n",
        "risky to attempt to train it on our small dataset.\n",
        "\n",
        "Thus, in our situation, it is a good strategy to only fine-tune the top 2 to 3 layers in the convolutional base.\n",
        "\n",
        "Let's set this up, starting from where we left off in the previous example:"
      ]
    },
    {
      "cell_type": "code",
      "metadata": {
        "id": "l5gXk9rkt5y4",
        "colab_type": "code",
        "colab": {}
      },
      "source": [
        "conv_base.trainable = True\n",
        "\n",
        "set_trainable = False\n",
        "for layer in conv_base.layers:\n",
        "    if layer.name == 'block5_conv1':\n",
        "        set_trainable = True\n",
        "    if set_trainable:\n",
        "        layer.trainable = True\n",
        "    else:\n",
        "        layer.trainable = False"
      ],
      "execution_count": 19,
      "outputs": []
    },
    {
      "cell_type": "markdown",
      "metadata": {
        "id": "n5dv2cUut5zA",
        "colab_type": "text"
      },
      "source": [
        "Now we can start fine-tuning our network. We will do this with the RMSprop optimizer, using a very low learning rate. The reason for using \n",
        "a low learning rate is that we want to limit the magnitude of the modifications we make to the representations of the 3 layers that we are \n",
        "fine-tuning. Updates that are too large may harm these representations.\n",
        "\n",
        "Now let's proceed with fine-tuning:"
      ]
    },
    {
      "cell_type": "code",
      "metadata": {
        "id": "pt5NqWhUt5zB",
        "colab_type": "code",
        "colab": {
          "base_uri": "https://localhost:8080/",
          "height": 1000
        },
        "outputId": "74eb8268-ebdb-41b9-9c1f-8625821f66e3"
      },
      "source": [
        "model.compile(loss='binary_crossentropy',\n",
        "              optimizer=optimizers.RMSprop(lr=1e-5),\n",
        "              metrics=['acc'])\n",
        "\n",
        "history = model.fit(\n",
        "      train_generator,\n",
        "      steps_per_epoch=100,\n",
        "      epochs=100,\n",
        "      validation_data=validation_generator,\n",
        "      validation_steps=50)"
      ],
      "execution_count": 20,
      "outputs": [
        {
          "output_type": "stream",
          "text": [
            "Epoch 1/100\n",
            "100/100 [==============================] - 30s 295ms/step - loss: 0.2934 - acc: 0.8740 - val_loss: 0.2222 - val_acc: 0.9080\n",
            "Epoch 2/100\n",
            "100/100 [==============================] - 29s 292ms/step - loss: 0.2506 - acc: 0.8920 - val_loss: 0.2064 - val_acc: 0.9200\n",
            "Epoch 3/100\n",
            "100/100 [==============================] - 29s 290ms/step - loss: 0.2392 - acc: 0.9000 - val_loss: 0.2290 - val_acc: 0.9100\n",
            "Epoch 4/100\n",
            "100/100 [==============================] - 29s 290ms/step - loss: 0.2204 - acc: 0.9080 - val_loss: 0.2086 - val_acc: 0.9210\n",
            "Epoch 5/100\n",
            "100/100 [==============================] - 29s 289ms/step - loss: 0.2133 - acc: 0.9145 - val_loss: 0.2027 - val_acc: 0.9200\n",
            "Epoch 6/100\n",
            "100/100 [==============================] - 29s 288ms/step - loss: 0.1758 - acc: 0.9245 - val_loss: 0.1944 - val_acc: 0.9220\n",
            "Epoch 7/100\n",
            "100/100 [==============================] - 29s 292ms/step - loss: 0.1815 - acc: 0.9240 - val_loss: 0.2279 - val_acc: 0.9180\n",
            "Epoch 8/100\n",
            "100/100 [==============================] - 29s 287ms/step - loss: 0.1820 - acc: 0.9235 - val_loss: 0.2115 - val_acc: 0.9180\n",
            "Epoch 9/100\n",
            "100/100 [==============================] - 29s 290ms/step - loss: 0.1648 - acc: 0.9385 - val_loss: 0.1869 - val_acc: 0.9290\n",
            "Epoch 10/100\n",
            "100/100 [==============================] - 30s 296ms/step - loss: 0.1588 - acc: 0.9375 - val_loss: 0.1893 - val_acc: 0.9330\n",
            "Epoch 11/100\n",
            "100/100 [==============================] - 30s 295ms/step - loss: 0.1551 - acc: 0.9345 - val_loss: 0.1922 - val_acc: 0.9290\n",
            "Epoch 12/100\n",
            "100/100 [==============================] - 30s 299ms/step - loss: 0.1475 - acc: 0.9410 - val_loss: 0.1781 - val_acc: 0.9320\n",
            "Epoch 13/100\n",
            "100/100 [==============================] - 29s 292ms/step - loss: 0.1368 - acc: 0.9405 - val_loss: 0.2223 - val_acc: 0.9220\n",
            "Epoch 14/100\n",
            "100/100 [==============================] - 29s 291ms/step - loss: 0.1332 - acc: 0.9415 - val_loss: 0.2187 - val_acc: 0.9130\n",
            "Epoch 15/100\n",
            "100/100 [==============================] - 30s 295ms/step - loss: 0.1272 - acc: 0.9420 - val_loss: 0.1961 - val_acc: 0.9290\n",
            "Epoch 16/100\n",
            "100/100 [==============================] - 29s 291ms/step - loss: 0.1125 - acc: 0.9585 - val_loss: 0.1623 - val_acc: 0.9340\n",
            "Epoch 17/100\n",
            "100/100 [==============================] - 29s 292ms/step - loss: 0.1018 - acc: 0.9580 - val_loss: 0.1855 - val_acc: 0.9320\n",
            "Epoch 18/100\n",
            "100/100 [==============================] - 29s 293ms/step - loss: 0.1019 - acc: 0.9615 - val_loss: 0.2225 - val_acc: 0.9240\n",
            "Epoch 19/100\n",
            "100/100 [==============================] - 29s 291ms/step - loss: 0.0893 - acc: 0.9670 - val_loss: 0.1879 - val_acc: 0.9300\n",
            "Epoch 20/100\n",
            "100/100 [==============================] - 29s 292ms/step - loss: 0.1018 - acc: 0.9580 - val_loss: 0.1782 - val_acc: 0.9340\n",
            "Epoch 21/100\n",
            "100/100 [==============================] - 29s 292ms/step - loss: 0.0920 - acc: 0.9655 - val_loss: 0.2060 - val_acc: 0.9290\n",
            "Epoch 22/100\n",
            "100/100 [==============================] - 30s 297ms/step - loss: 0.1077 - acc: 0.9595 - val_loss: 0.2052 - val_acc: 0.9290\n",
            "Epoch 23/100\n",
            "100/100 [==============================] - 30s 303ms/step - loss: 0.0947 - acc: 0.9680 - val_loss: 0.2436 - val_acc: 0.9220\n",
            "Epoch 24/100\n",
            "100/100 [==============================] - 30s 301ms/step - loss: 0.0838 - acc: 0.9640 - val_loss: 0.1889 - val_acc: 0.9370\n",
            "Epoch 25/100\n",
            "100/100 [==============================] - 29s 295ms/step - loss: 0.0839 - acc: 0.9675 - val_loss: 0.2228 - val_acc: 0.9310\n",
            "Epoch 26/100\n",
            "100/100 [==============================] - 29s 290ms/step - loss: 0.0824 - acc: 0.9685 - val_loss: 0.2008 - val_acc: 0.9360\n",
            "Epoch 27/100\n",
            "100/100 [==============================] - 29s 291ms/step - loss: 0.0679 - acc: 0.9735 - val_loss: 0.1881 - val_acc: 0.9320\n",
            "Epoch 28/100\n",
            "100/100 [==============================] - 29s 295ms/step - loss: 0.0667 - acc: 0.9755 - val_loss: 0.1705 - val_acc: 0.9360\n",
            "Epoch 29/100\n",
            "100/100 [==============================] - 29s 294ms/step - loss: 0.0693 - acc: 0.9760 - val_loss: 0.1894 - val_acc: 0.9370\n",
            "Epoch 30/100\n",
            "100/100 [==============================] - 29s 292ms/step - loss: 0.0726 - acc: 0.9725 - val_loss: 0.1957 - val_acc: 0.9370\n",
            "Epoch 31/100\n",
            "100/100 [==============================] - 30s 295ms/step - loss: 0.0637 - acc: 0.9770 - val_loss: 0.2094 - val_acc: 0.9330\n",
            "Epoch 32/100\n",
            "100/100 [==============================] - 30s 295ms/step - loss: 0.0639 - acc: 0.9775 - val_loss: 0.2028 - val_acc: 0.9340\n",
            "Epoch 33/100\n",
            "100/100 [==============================] - 30s 296ms/step - loss: 0.0623 - acc: 0.9780 - val_loss: 0.2238 - val_acc: 0.9340\n",
            "Epoch 34/100\n",
            "100/100 [==============================] - 29s 292ms/step - loss: 0.0513 - acc: 0.9850 - val_loss: 0.1979 - val_acc: 0.9390\n",
            "Epoch 35/100\n",
            "100/100 [==============================] - 29s 292ms/step - loss: 0.0663 - acc: 0.9745 - val_loss: 0.2147 - val_acc: 0.9330\n",
            "Epoch 36/100\n",
            "100/100 [==============================] - 29s 292ms/step - loss: 0.0563 - acc: 0.9800 - val_loss: 0.2160 - val_acc: 0.9370\n",
            "Epoch 37/100\n",
            "100/100 [==============================] - 29s 293ms/step - loss: 0.0513 - acc: 0.9815 - val_loss: 0.1893 - val_acc: 0.9390\n",
            "Epoch 38/100\n",
            "100/100 [==============================] - 30s 297ms/step - loss: 0.0662 - acc: 0.9780 - val_loss: 0.3170 - val_acc: 0.9140\n",
            "Epoch 39/100\n",
            "100/100 [==============================] - 30s 298ms/step - loss: 0.0609 - acc: 0.9790 - val_loss: 0.2430 - val_acc: 0.9260\n",
            "Epoch 40/100\n",
            "100/100 [==============================] - 30s 297ms/step - loss: 0.0522 - acc: 0.9805 - val_loss: 0.2189 - val_acc: 0.9310\n",
            "Epoch 41/100\n",
            "100/100 [==============================] - 29s 292ms/step - loss: 0.0483 - acc: 0.9815 - val_loss: 0.2933 - val_acc: 0.9230\n",
            "Epoch 42/100\n",
            "100/100 [==============================] - 29s 291ms/step - loss: 0.0500 - acc: 0.9810 - val_loss: 0.2155 - val_acc: 0.9380\n",
            "Epoch 43/100\n",
            "100/100 [==============================] - 29s 294ms/step - loss: 0.0413 - acc: 0.9840 - val_loss: 0.2209 - val_acc: 0.9380\n",
            "Epoch 44/100\n",
            "100/100 [==============================] - 30s 296ms/step - loss: 0.0428 - acc: 0.9860 - val_loss: 0.1984 - val_acc: 0.9390\n",
            "Epoch 45/100\n",
            "100/100 [==============================] - 29s 293ms/step - loss: 0.0522 - acc: 0.9805 - val_loss: 0.2275 - val_acc: 0.9420\n",
            "Epoch 46/100\n",
            "100/100 [==============================] - 29s 294ms/step - loss: 0.0452 - acc: 0.9815 - val_loss: 0.2130 - val_acc: 0.9430\n",
            "Epoch 47/100\n",
            "100/100 [==============================] - 29s 295ms/step - loss: 0.0398 - acc: 0.9835 - val_loss: 0.2220 - val_acc: 0.9400\n",
            "Epoch 48/100\n",
            "100/100 [==============================] - 30s 302ms/step - loss: 0.0439 - acc: 0.9830 - val_loss: 0.2143 - val_acc: 0.9390\n",
            "Epoch 49/100\n",
            "100/100 [==============================] - 30s 299ms/step - loss: 0.0435 - acc: 0.9815 - val_loss: 0.2091 - val_acc: 0.9420\n",
            "Epoch 50/100\n",
            "100/100 [==============================] - 29s 295ms/step - loss: 0.0462 - acc: 0.9840 - val_loss: 0.2186 - val_acc: 0.9430\n",
            "Epoch 51/100\n",
            "100/100 [==============================] - 29s 292ms/step - loss: 0.0306 - acc: 0.9900 - val_loss: 0.2090 - val_acc: 0.9430\n",
            "Epoch 52/100\n",
            "100/100 [==============================] - 29s 293ms/step - loss: 0.0422 - acc: 0.9850 - val_loss: 0.2171 - val_acc: 0.9410\n",
            "Epoch 53/100\n",
            "100/100 [==============================] - 29s 292ms/step - loss: 0.0316 - acc: 0.9895 - val_loss: 0.2542 - val_acc: 0.9320\n",
            "Epoch 54/100\n",
            "100/100 [==============================] - 30s 297ms/step - loss: 0.0370 - acc: 0.9875 - val_loss: 0.2119 - val_acc: 0.9340\n",
            "Epoch 55/100\n",
            "100/100 [==============================] - 29s 293ms/step - loss: 0.0330 - acc: 0.9895 - val_loss: 0.2131 - val_acc: 0.9450\n",
            "Epoch 56/100\n",
            "100/100 [==============================] - 29s 292ms/step - loss: 0.0318 - acc: 0.9890 - val_loss: 0.2267 - val_acc: 0.9390\n",
            "Epoch 57/100\n",
            "100/100 [==============================] - 29s 292ms/step - loss: 0.0385 - acc: 0.9880 - val_loss: 0.2722 - val_acc: 0.9300\n",
            "Epoch 58/100\n",
            "100/100 [==============================] - 29s 294ms/step - loss: 0.0324 - acc: 0.9865 - val_loss: 0.2402 - val_acc: 0.9360\n",
            "Epoch 59/100\n",
            "100/100 [==============================] - 29s 291ms/step - loss: 0.0294 - acc: 0.9895 - val_loss: 0.2049 - val_acc: 0.9460\n",
            "Epoch 60/100\n",
            "100/100 [==============================] - 29s 290ms/step - loss: 0.0332 - acc: 0.9895 - val_loss: 0.2400 - val_acc: 0.9390\n",
            "Epoch 61/100\n",
            "100/100 [==============================] - 29s 289ms/step - loss: 0.0334 - acc: 0.9870 - val_loss: 0.2511 - val_acc: 0.9400\n",
            "Epoch 62/100\n",
            "100/100 [==============================] - 29s 288ms/step - loss: 0.0291 - acc: 0.9915 - val_loss: 0.2389 - val_acc: 0.9420\n",
            "Epoch 63/100\n",
            "100/100 [==============================] - 29s 288ms/step - loss: 0.0355 - acc: 0.9865 - val_loss: 0.2236 - val_acc: 0.9390\n",
            "Epoch 64/100\n",
            "100/100 [==============================] - 29s 292ms/step - loss: 0.0314 - acc: 0.9885 - val_loss: 0.2289 - val_acc: 0.9420\n",
            "Epoch 65/100\n",
            "100/100 [==============================] - 29s 291ms/step - loss: 0.0291 - acc: 0.9900 - val_loss: 0.3525 - val_acc: 0.9150\n",
            "Epoch 66/100\n",
            "100/100 [==============================] - 29s 290ms/step - loss: 0.0327 - acc: 0.9870 - val_loss: 0.2605 - val_acc: 0.9300\n",
            "Epoch 67/100\n",
            "100/100 [==============================] - 29s 290ms/step - loss: 0.0328 - acc: 0.9875 - val_loss: 0.2289 - val_acc: 0.9410\n",
            "Epoch 68/100\n",
            "100/100 [==============================] - 29s 289ms/step - loss: 0.0308 - acc: 0.9880 - val_loss: 0.2160 - val_acc: 0.9380\n",
            "Epoch 69/100\n",
            "100/100 [==============================] - 29s 292ms/step - loss: 0.0325 - acc: 0.9900 - val_loss: 0.3041 - val_acc: 0.9360\n",
            "Epoch 70/100\n",
            "100/100 [==============================] - 29s 288ms/step - loss: 0.0287 - acc: 0.9910 - val_loss: 0.2556 - val_acc: 0.9440\n",
            "Epoch 71/100\n",
            "100/100 [==============================] - 29s 289ms/step - loss: 0.0241 - acc: 0.9935 - val_loss: 0.2740 - val_acc: 0.9380\n",
            "Epoch 72/100\n",
            "100/100 [==============================] - 29s 288ms/step - loss: 0.0197 - acc: 0.9935 - val_loss: 0.2676 - val_acc: 0.9360\n",
            "Epoch 73/100\n",
            "100/100 [==============================] - 29s 289ms/step - loss: 0.0191 - acc: 0.9935 - val_loss: 0.2617 - val_acc: 0.9290\n",
            "Epoch 74/100\n",
            "100/100 [==============================] - 29s 288ms/step - loss: 0.0266 - acc: 0.9885 - val_loss: 0.2718 - val_acc: 0.9360\n",
            "Epoch 75/100\n",
            "100/100 [==============================] - 30s 295ms/step - loss: 0.0312 - acc: 0.9870 - val_loss: 0.3202 - val_acc: 0.9310\n",
            "Epoch 76/100\n",
            "100/100 [==============================] - 29s 288ms/step - loss: 0.0278 - acc: 0.9900 - val_loss: 0.2530 - val_acc: 0.9400\n",
            "Epoch 77/100\n",
            "100/100 [==============================] - 29s 289ms/step - loss: 0.0196 - acc: 0.9920 - val_loss: 0.2655 - val_acc: 0.9380\n",
            "Epoch 78/100\n",
            "100/100 [==============================] - 29s 288ms/step - loss: 0.0313 - acc: 0.9900 - val_loss: 0.3198 - val_acc: 0.9310\n",
            "Epoch 79/100\n",
            "100/100 [==============================] - 29s 288ms/step - loss: 0.0299 - acc: 0.9895 - val_loss: 0.2635 - val_acc: 0.9360\n",
            "Epoch 80/100\n",
            "100/100 [==============================] - 29s 286ms/step - loss: 0.0250 - acc: 0.9920 - val_loss: 0.3202 - val_acc: 0.9270\n",
            "Epoch 81/100\n",
            "100/100 [==============================] - 29s 286ms/step - loss: 0.0170 - acc: 0.9925 - val_loss: 0.2658 - val_acc: 0.9360\n",
            "Epoch 82/100\n",
            "100/100 [==============================] - 29s 286ms/step - loss: 0.0170 - acc: 0.9935 - val_loss: 0.2642 - val_acc: 0.9350\n",
            "Epoch 83/100\n",
            "100/100 [==============================] - 29s 286ms/step - loss: 0.0280 - acc: 0.9905 - val_loss: 0.2575 - val_acc: 0.9390\n",
            "Epoch 84/100\n",
            "100/100 [==============================] - 29s 286ms/step - loss: 0.0226 - acc: 0.9915 - val_loss: 0.2871 - val_acc: 0.9340\n",
            "Epoch 85/100\n",
            "100/100 [==============================] - 29s 288ms/step - loss: 0.0168 - acc: 0.9955 - val_loss: 0.2847 - val_acc: 0.9400\n",
            "Epoch 86/100\n",
            "100/100 [==============================] - 30s 298ms/step - loss: 0.0145 - acc: 0.9945 - val_loss: 0.2574 - val_acc: 0.9400\n",
            "Epoch 87/100\n",
            "100/100 [==============================] - 29s 293ms/step - loss: 0.0149 - acc: 0.9955 - val_loss: 0.2829 - val_acc: 0.9390\n",
            "Epoch 88/100\n",
            "100/100 [==============================] - 29s 291ms/step - loss: 0.0244 - acc: 0.9910 - val_loss: 0.2829 - val_acc: 0.9410\n",
            "Epoch 89/100\n",
            "100/100 [==============================] - 29s 293ms/step - loss: 0.0172 - acc: 0.9940 - val_loss: 0.2821 - val_acc: 0.9380\n",
            "Epoch 90/100\n",
            "100/100 [==============================] - 29s 294ms/step - loss: 0.0189 - acc: 0.9915 - val_loss: 0.2806 - val_acc: 0.9450\n",
            "Epoch 91/100\n",
            "100/100 [==============================] - 29s 293ms/step - loss: 0.0247 - acc: 0.9905 - val_loss: 0.2563 - val_acc: 0.9410\n",
            "Epoch 92/100\n",
            "100/100 [==============================] - 29s 293ms/step - loss: 0.0224 - acc: 0.9900 - val_loss: 0.2498 - val_acc: 0.9390\n",
            "Epoch 93/100\n",
            "100/100 [==============================] - 29s 292ms/step - loss: 0.0181 - acc: 0.9925 - val_loss: 0.2805 - val_acc: 0.9410\n",
            "Epoch 94/100\n",
            "100/100 [==============================] - 29s 293ms/step - loss: 0.0141 - acc: 0.9955 - val_loss: 0.3023 - val_acc: 0.9420\n",
            "Epoch 95/100\n",
            "100/100 [==============================] - 29s 292ms/step - loss: 0.0231 - acc: 0.9940 - val_loss: 0.2552 - val_acc: 0.9390\n",
            "Epoch 96/100\n",
            "100/100 [==============================] - 30s 298ms/step - loss: 0.0302 - acc: 0.9880 - val_loss: 0.2615 - val_acc: 0.9400\n",
            "Epoch 97/100\n",
            "100/100 [==============================] - 29s 294ms/step - loss: 0.0131 - acc: 0.9955 - val_loss: 0.3539 - val_acc: 0.9340\n",
            "Epoch 98/100\n",
            "100/100 [==============================] - 29s 292ms/step - loss: 0.0148 - acc: 0.9950 - val_loss: 0.2845 - val_acc: 0.9410\n",
            "Epoch 99/100\n",
            "100/100 [==============================] - 29s 291ms/step - loss: 0.0105 - acc: 0.9965 - val_loss: 0.2741 - val_acc: 0.9350\n",
            "Epoch 100/100\n",
            "100/100 [==============================] - 29s 294ms/step - loss: 0.0106 - acc: 0.9960 - val_loss: 0.2577 - val_acc: 0.9450\n"
          ],
          "name": "stdout"
        }
      ]
    },
    {
      "cell_type": "code",
      "metadata": {
        "id": "CkJhU9X_t5zD",
        "colab_type": "code",
        "colab": {}
      },
      "source": [
        "model.save('cats_and_dogs_small_4.h5')"
      ],
      "execution_count": 21,
      "outputs": []
    },
    {
      "cell_type": "markdown",
      "metadata": {
        "id": "wNyU3uj6t5zG",
        "colab_type": "text"
      },
      "source": [
        "Let's plot our results using the same plotting code as before:"
      ]
    },
    {
      "cell_type": "code",
      "metadata": {
        "id": "uPdn3lfXt5zG",
        "colab_type": "code",
        "colab": {
          "base_uri": "https://localhost:8080/",
          "height": 545
        },
        "outputId": "e49d651a-fa2a-4c34-e371-480ca8971adb"
      },
      "source": [
        "acc = history.history['acc']\n",
        "val_acc = history.history['val_acc']\n",
        "loss = history.history['loss']\n",
        "val_loss = history.history['val_loss']\n",
        "\n",
        "epochs = range(len(acc))\n",
        "\n",
        "plt.plot(epochs, acc, 'bo', label='Training acc')\n",
        "plt.plot(epochs, val_acc, 'b', label='Validation acc')\n",
        "plt.title('Training and validation accuracy')\n",
        "plt.legend()\n",
        "\n",
        "plt.figure()\n",
        "\n",
        "plt.plot(epochs, loss, 'bo', label='Training loss')\n",
        "plt.plot(epochs, val_loss, 'b', label='Validation loss')\n",
        "plt.title('Training and validation loss')\n",
        "plt.legend()\n",
        "\n",
        "plt.show()"
      ],
      "execution_count": 22,
      "outputs": [
        {
          "output_type": "display_data",
          "data": {
            "image/png": "[encoded data removed]",
            "text/plain": [
              "<Figure size 432x288 with 1 Axes>"
            ]
          },
          "metadata": {
            "tags": [],
            "needs_background": "light"
          }
        },
        {
          "output_type": "display_data",
          "data": {
            "image/png": "[encoded data removed]",
            "text/plain": [
              "<Figure size 432x288 with 1 Axes>"
            ]
          },
          "metadata": {
            "tags": [],
            "needs_background": "light"
          }
        }
      ]
    },
    {
      "cell_type": "markdown",
      "metadata": {
        "id": "gBrL6iaZt5zJ",
        "colab_type": "text"
      },
      "source": [
        "\n",
        "These curves look very noisy. To make them more readable, we can smooth them by replacing every loss and accuracy with exponential moving \n",
        "averages of these quantities. Here's a trivial utility function to do this:"
      ]
    },
    {
      "cell_type": "code",
      "metadata": {
        "id": "e_gT-Mlut5zJ",
        "colab_type": "code",
        "colab": {
          "base_uri": "https://localhost:8080/",
          "height": 545
        },
        "outputId": "87e5a883-57c2-4f6b-c21e-479415645fb3"
      },
      "source": [
        "def smooth_curve(points, factor=0.8):\n",
        "  smoothed_points = []\n",
        "  for point in points:\n",
        "    if smoothed_points:\n",
        "      previous = smoothed_points[-1]\n",
        "      smoothed_points.append(previous * factor + point * (1 - factor))\n",
        "    else:\n",
        "      smoothed_points.append(point)\n",
        "  return smoothed_points\n",
        "\n",
        "plt.plot(epochs,\n",
        "         smooth_curve(acc), 'bo', label='Smoothed training acc')\n",
        "plt.plot(epochs,\n",
        "         smooth_curve(val_acc), 'b', label='Smoothed validation acc')\n",
        "plt.title('Training and validation accuracy')\n",
        "plt.legend()\n",
        "\n",
        "plt.figure()\n",
        "\n",
        "plt.plot(epochs,\n",
        "         smooth_curve(loss), 'bo', label='Smoothed training loss')\n",
        "plt.plot(epochs,\n",
        "         smooth_curve(val_loss), 'b', label='Smoothed validation loss')\n",
        "plt.title('Training and validation loss')\n",
        "plt.legend()\n",
        "\n",
        "plt.show()"
      ],
      "execution_count": 23,
      "outputs": [
        {
          "output_type": "display_data",
          "data": {
            "image/png": "[encoded data removed]",
            "text/plain": [
              "<Figure size 432x288 with 1 Axes>"
            ]
          },
          "metadata": {
            "tags": [],
            "needs_background": "light"
          }
        },
        {
          "output_type": "display_data",
          "data": {
            "image/png": "[encoded data removed]",
            "text/plain": [
              "<Figure size 432x288 with 1 Axes>"
            ]
          },
          "metadata": {
            "tags": [],
            "needs_background": "light"
          }
        }
      ]
    },
    {
      "cell_type": "markdown",
      "metadata": {
        "id": "4z3HmIq8t5zO",
        "colab_type": "text"
      },
      "source": [
        "\n",
        "These curves look much cleaner and more stable. We are seeing a nice 1% absolute improvement.\n",
        "\n",
        "Note that the loss curve does not show any real improvement (in fact, it is deteriorating). You may wonder, how could accuracy improve if the \n",
        "loss isn't decreasing? The answer is simple: what we display is an average of pointwise loss values, but what actually matters for accuracy \n",
        "is the distribution of the loss values, not their average, since accuracy is the result of a binary thresholding of the class probability \n",
        "predicted by the model. The model may still be improving even if this isn't reflected in the average loss.\n",
        "\n",
        "We can now finally evaluate this model on the test data:"
      ]
    },
    {
      "cell_type": "code",
      "metadata": {
        "id": "OxJdl68It5zP",
        "colab_type": "code",
        "colab": {
          "base_uri": "https://localhost:8080/",
          "height": 68
        },
        "outputId": "c4fdba4c-3504-4bb0-ef9e-0fcc5789d8b4"
      },
      "source": [
        "test_generator = test_datagen.flow_from_directory(\n",
        "        test_dir,\n",
        "        target_size=(150, 150),\n",
        "        batch_size=20,\n",
        "        class_mode='binary')\n",
        "\n",
        "test_loss, test_acc = model.evaluate(test_generator, steps=50)\n",
        "print('test acc:', test_acc)"
      ],
      "execution_count": 24,
      "outputs": [
        {
          "output_type": "stream",
          "text": [
            "Found 1000 images belonging to 2 classes.\n",
            "50/50 [==============================] - 6s 119ms/step - loss: 0.3014 - acc: 0.9460\n",
            "test acc: 0.9459999799728394\n"
          ],
          "name": "stdout"
        }
      ]
    },
    {
      "cell_type": "markdown",
      "metadata": {
        "id": "XAZv04C6t5zS",
        "colab_type": "text"
      },
      "source": [
        "\n",
        "Here we get a test accuracy of 97%. In the original Kaggle competition around this dataset, this would have been one of the top results. \n",
        "However, using modern deep learning techniques, we managed to reach this result using only a very small fraction of the training data \n",
        "available (about 10%). There is a huge difference between being able to train on 20,000 samples compared to 2,000 samples!"
      ]
    },
    {
      "cell_type": "markdown",
      "metadata": {
        "id": "S8BspxDFt5zS",
        "colab_type": "text"
      },
      "source": [
        "## Take-aways: using convnets with small datasets\n",
        "\n",
        "Here's what you should take away from the exercises of these past two sections:\n",
        "\n",
        "* Convnets are the best type of machine learning models for computer vision tasks. It is possible to train one from scratch even on a very \n",
        "small dataset, with decent results.\n",
        "* On a small dataset, overfitting will be the main issue. Data augmentation is a powerful way to fight overfitting when working with image \n",
        "data.\n",
        "* It is easy to reuse an existing convnet on a new dataset, via feature extraction. This is a very valuable technique for working with \n",
        "small image datasets.\n",
        "* As a complement to feature extraction, one may use fine-tuning, which adapts to a new problem some of the representations previously \n",
        "learned by an existing model. This pushes performance a bit further.\n",
        "\n",
        "Now you have a solid set of tools for dealing with image classification problems, in particular with small datasets."
      ]
    }
  ]
}